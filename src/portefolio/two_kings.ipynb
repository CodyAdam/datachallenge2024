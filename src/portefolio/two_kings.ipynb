{
 "cells": [
  {
   "cell_type": "code",
   "execution_count": null,
   "metadata": {},
   "outputs": [],
   "source": [
    "import pandas as pd\n",
    "import matplotlib.pyplot as plt\n",
    "import numpy as np\n",
    "\n",
    "# Load the Excel files\n",
    "btc_filepath = './data/output/backtest_Close_BTC.xlsx'\n",
    "btc_df = pd.read_excel(btc_filepath)\n",
    "eth_filepath = './data/output/backtest_Close_ETH.xlsx'\n",
    "eth_df = pd.read_excel(eth_filepath)\n",
    "\n",
    "# Extracting values into lists\n",
    "btc_money_evolution = btc_df['valeur_portefeuille'].tolist()\n",
    "btc_money_evolution_buy_and_hold = btc_df['valeur_portefeuille_buy_and_hold'].tolist()\n",
    "eth_money_evolution = eth_df['valeur_portefeuille'].tolist()\n",
    "eth_money_evolution_buy_and_hold = eth_df['valeur_portefeuille_buy_and_hold'].tolist()\n",
    "\n",
    "# Summing the two portfolios\n",
    "money_evolution = []\n",
    "money_evolution_buy_and_hold = []\n",
    "for i in range(len(btc_money_evolution)):\n",
    "    money_evolution.append(btc_money_evolution[i] + eth_money_evolution[i])\n",
    "    money_evolution_buy_and_hold.append(btc_money_evolution_buy_and_hold[i] + eth_money_evolution_buy_and_hold[i])"
   ]
  },
  {
   "cell_type": "code",
   "execution_count": null,
   "metadata": {},
   "outputs": [],
   "source": [
    "## Compute % growth for both evolutions\n",
    "growth_buy_and_hold = (money_evolution_buy_and_hold[-1] - money_evolution_buy_and_hold[0]) / money_evolution_buy_and_hold[0]\n",
    "growth = (money_evolution[-1] - money_evolution[0]) / money_evolution[0]\n",
    "print(f'Buy and hold growth: {money_evolution_buy_and_hold*100:.2f}')\n",
    "print(f'Applied strategy growth: {money_evolution*100:.2f}')"
   ]
  },
  {
   "cell_type": "code",
   "execution_count": null,
   "metadata": {},
   "outputs": [],
   "source": [
    "## Compute sharpe ratio\n",
    "TRADING_DAYS_PER_YEAR = 365\n",
    "risk_free_rate = 0.01 / TRADING_DAYS_PER_YEAR\n",
    "df = pd.DataFrame(money_evolution, columns=['Investment_Value'])\n",
    "df_buy_and_hold = pd.DataFrame(money_evolution_buy_and_hold, columns=['Investment_Value'])\n",
    "df['daily_returns'] = df['Investment_Value'].pct_change(1)\n",
    "df_buy_and_hold['daily_returns'] = df_buy_and_hold['Investment_Value'].pct_change(1)\n",
    "excess_returns = df['daily_returns'] - risk_free_rate\n",
    "excess_returns_buy_and_hold = df_buy_and_hold['daily_returns'] - risk_free_rate\n",
    "sharpe_ratio = excess_returns.mean() / excess_returns.std()\n",
    "sharpe_ratio_buy_and_hold = excess_returns_buy_and_hold.mean() / excess_returns_buy_and_hold.std()\n",
    "sharpe_ratio_annualized = sharpe_ratio * np.sqrt(TRADING_DAYS_PER_YEAR)\n",
    "sharpe_ratio_annualized_buy_and_hold = sharpe_ratio_buy_and_hold * np.sqrt(TRADING_DAYS_PER_YEAR)\n",
    "print(f'Sharpe ratio: {sharpe_ratio_annualized:.2f}')\n",
    "print(f'Sharpe ratio buy and hold: {sharpe_ratio_annualized_buy_and_hold:.2f}')"
   ]
  },
  {
   "cell_type": "code",
   "execution_count": null,
   "metadata": {},
   "outputs": [],
   "source": [
    "plt.figure(figsize=(16, 8))\n",
    "plt.subplot(1, 1, 1)\n",
    "plt.plot(money_evolution_buy_and_hold, label='Buy and hold', color='blue')\n",
    "plt.plot(money_evolution, label='Applied strategy', color='red')\n",
    "plt.title(f'Two Kings Portfolio')\n",
    "plt.ylabel('Money')\n",
    "plt.xlabel('Time')\n",
    "plt.legend()"
   ]
  }
 ],
 "metadata": {
  "language_info": {
   "name": "python"
  }
 },
 "nbformat": 4,
 "nbformat_minor": 2
}
